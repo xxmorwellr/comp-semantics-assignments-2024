{
 "cells": [
  {
   "cell_type": "markdown",
   "metadata": {},
   "source": [
    "# A2: Vector Semantics\n",
    "\n",
    "Nikolai Ilinykh, Mehdi Ghanimifard, Wafia Adouane and Simon Dobnik\n",
    "\n",
    "\n",
    "The lab is an exploration and learning exercise to be done in a group and also in discussion with the teachers and other students.\n",
    "\n",
    "Write all your answers and the code in the appropriate boxes below.\n",
    "\n",
    "In this lab we will look at how to build distributional semantic models from corpora and use semantic similarity captured by these models to do semantic tasks. We are also going to examine how different vector composition functions for vectors work in approximating semantic similarity of phrases when compared to human judgements.\n",
    "\n",
    "This lab uses code from `dist_erk.py` which contains functions similar to those shown in the lecture. You can use either functions to solve these tasks."
   ]
  },
  {
   "cell_type": "code",
   "execution_count": 1,
   "metadata": {},
   "outputs": [],
   "source": [
    "# the following command simply imports all the methods from that code.\n",
    "from dist_erk import *"
   ]
  },
  {
   "cell_type": "markdown",
   "metadata": {},
   "source": [
    "## 1. Loading a corpus\n",
    "\n",
    "To train a distributional model, we first need a sufficiently large collection of texts which contain different words used frequently enough in different contexts. Here we will use a section of the Wikipedia corpus `wikipedia.txt` stored in `wikipedia.zip`. This file has been borrowed from another lab by [Richard Johansson](http://www.cse.chalmers.se/~richajo/).\n",
    "\n",
    "When unpacked, the file is 151mb, hence if you are using the MLT servers you should store it in a temporary folder outside your home and adjust the `corpus_dir` path below. It may already exist in `/srv/data/computational-semantics/`."
   ]
  },
  {
   "cell_type": "code",
   "execution_count": 2,
   "metadata": {},
   "outputs": [],
   "source": [
    "# run on pc\n",
    "# import zipfile\n",
    "# # unpack .zip\n",
    "# with zipfile.ZipFile('wikipedia.zip', 'r') as zip_ref:\n",
    "#     zip_ref.extractall('wikipedia')\n",
    "corpus_dir = 'wikipedia/wikipedia/'"
   ]
  },
  {
   "cell_type": "markdown",
   "metadata": {},
   "source": [
    "## 2. Building a model\n",
    "\n",
    "Now you are ready to build the model.  \n",
    "Using the methods from the code imported above build three word matrices with 1000 dimensions as follows:  \n",
    "\n",
    "(i) with raw counts (saved to a variable `space_1k`);  \n",
    "(ii) with PPMI (`ppmispace_1k`);  \n",
    "(iii) with reduced dimensions SVD (`svdspace_1k`).  \n",
    "For the latter use `svddim=5`. **[5 marks]**\n",
    "\n",
    "Your task is to replace `...` with function calls. Functions are imported from `dist_erk.py`, and they similar to functions shown during the lecture."
   ]
  },
  {
   "cell_type": "code",
   "execution_count": 3,
   "metadata": {
    "scrolled": true
   },
   "outputs": [
    {
     "name": "stdout",
     "output_type": "stream",
     "text": [
      "reading file wikipedia.txt\n",
      "create count matrices\n",
      "reading file wikipedia.txt\n"
     ]
    },
    {
     "name": "stderr",
     "output_type": "stream",
     "text": [
      "1145485it [02:18, 8258.53it/s] \n"
     ]
    },
    {
     "name": "stdout",
     "output_type": "stream",
     "text": [
      "ppmi transform\n",
      "svd transform\n",
      "done.\n"
     ]
    }
   ],
   "source": [
    "numdims = 1000\n",
    "svddim = 5\n",
    "\n",
    "# Which words to use as targets and context words?\n",
    "# We need to count the words and keep only the N most frequent ones\n",
    "# Which function would you use here with which variable?\n",
    "ktw = do_word_count(corpus_dir, numdims) # 1000 most common words\n",
    "\n",
    "wi = make_word_index(ktw) # word:index pair\n",
    "words_in_order = sorted(wi.keys(), key=lambda w: wi[w]) # sorted words by index\n",
    "\n",
    "# Create different spaces (the original matrix space, the ppmi space, the svd space)\n",
    "# Which functions with which arguments would you use here?\n",
    "print('create count matrices')\n",
    "space_1k = make_space(corpus_dir, wi, numdims)\n",
    "print('ppmi transform')\n",
    "ppmispace_1k = ppmi_transform(space_1k, wi)\n",
    "print('svd transform')\n",
    "svdspace_1k = svd_transform(space_1k, numdims, svddim)\n",
    "print('done.')"
   ]
  },
  {
   "cell_type": "code",
   "execution_count": 4,
   "metadata": {
    "scrolled": true
   },
   "outputs": [
    {
     "name": "stdout",
     "output_type": "stream",
     "text": [
      "house: [2551 3714 3104  567  962  627  443  185  311  189  131   28   93  169\n",
      "   81  125  151  408  194   89   79   29  217  184   62   15   31   70\n",
      "   10    1   41   21    1   31   37    1   30    5   25    7    3   20\n",
      "   11    1   32   36    2    5   65    4    0   46    8   18   28    0\n",
      "   20    7    8   16   10   40    0  175   10    2    7   19    1  174\n",
      "   11    3    1    6    0    0    0   10    9   11    7   24    4    4\n",
      "   14   23   58    7    0   10    2    3   10    6   18    6   13    3\n",
      "   22    0    3    5    3    7   14    3   40   20   19   15    6    8\n",
      "   23    4    5    1   19    0    3    1    0   14    0   14   53    7\n",
      "    7   11    6    5    5    4   12    6   53    1    1  433    4    0\n",
      "    5    7    7   12    1    1    3    4   17    8   16    1    2   31\n",
      "    1   12   14    1   44    6   14    9   38    7    2    6    8    1\n",
      "   10    6   10    1    9    7    9    4    3    9    0   11    3    2\n",
      "    0    2   11   37    2    0    2    1    5    9   10   16    4    6\n",
      "    0   21    1    1    0    2   47    3   27    7    0    2   13    1\n",
      "    2    0    5   31    0    1    0    3    9    0    1    0    3    3\n",
      "   17    1    1   16    3    7    4    7   15    4    0    0    2    5\n",
      "    0    2    0    5    0    9    0    0    8    0   10    0    0    0\n",
      "    2    0    1    3    1    3   15    1    9    0   19   14    0    0\n",
      "    3    2   18    3    1    3    2   19    5    2    4    1   10    6\n",
      "    0    3    3    6    4    2   25    4    6    3    1   25   10   15\n",
      "    3   10   15    1   10    1    8    1   13    1    2    9    9    1\n",
      "    4    1   25    0    4    6    5    5   36    0    2    2    2    0\n",
      "    0    2    3    3    0    1    4    6    5    0   50    2    5    2\n",
      "   14    6    2    2    4    1    9    4    5    3    1    0   12    3\n",
      "    3    2    2    0    0    1    4    7   12    5    0    2    1    2\n",
      "    3    4    7    3    5    0   27    7    1    1    0    3    3    3\n",
      "   10    0   14    2    0    2    4    6    0    5    0    0    1    1\n",
      "    4    1    1    0    0    0    0    3   20    0    0    2    1    5\n",
      "    3    8    3    5    1    2   66    1    2   19    2    1    3    3\n",
      "   21    5    4    2    2    0    4    3    5    0    7    1    6    1\n",
      "    3    3    1    0    3    0    2    0   89    2    3    1    1   14\n",
      "    0    2    1    9    2    3    2    4    2    0   25    0    0   23\n",
      "    0    6    2    1    3    0    2    5    0    4    4    3    0    4\n",
      "   58    3    1    6    2    4    3    3   11    1    1    1   10    0\n",
      "    7    3    1    6    1   18    1    0    4    2    0    8    5    2\n",
      "    0    0    0    0    5    1    2    1    1    3    1    2    1    1\n",
      "    0    6    1    4    1    3   20    1    0    5    2    5    2    1\n",
      "    0    0    0    2    6    1    1    0    1    1    1    0    0    3\n",
      "    3    0    0    6    6   74    3    0   13    5    2    2    1    5\n",
      "    3    3    1    7    4    0    0    2    3    0    4    0    4    1\n",
      "    0    2    5    2    1   14    2    0    0   19    0    1    2    1\n",
      "    0    3    2    0    0    3    1    3    3    2    7   18    7    6\n",
      "    6    0    1    9    1   10    2    0    2    0    2    4    0    0\n",
      "    1    2    0    1    0    2    0    0    0    2    0    2    2    0\n",
      "    3    2    2    0    0    1    2    3    1    1    1    2    0    0\n",
      "    3    0    7    2   39    0   14    0    1    1    0    1    5    3\n",
      "   11    0    3    0    1    1    0    0    1    9    2    1    0   11\n",
      "    1    3    7    0    0    0   32    1    0    0    0    1    1    3\n",
      "    0    9    0    2    0    1    3    2    6    0    3    0    0    2\n",
      "    3    0    1    0    1    4    0    0    1    1    0    0    5   21\n",
      "    2    1    1    3    0    1    7    1    3    4    0    5    3    0\n",
      "    7    2    0    4    2    0    2    1    4    4    0    0    0    5\n",
      "    3    2    2    0    4    0   23    2    2    2    4    0    1    0\n",
      "    4    0    3    5    3    0    8    0    1   16    1    2    2    7\n",
      "    0    0    1   11    1    0    4    0    1    0    1    2    1    5\n",
      "    0   97    0    2    0    3    0    8    1   14    4    9    2    3\n",
      "    1    1    0    3    4    0    5    1    5    2    0    0    0    2\n",
      "    1    2    1    1    1    1   12    0    2    5    1    0    0   13\n",
      "    2    0    0    0    2    2    0    0    3    1    1    1    1    0\n",
      "    1    2    1    0    0    0   10    0    1    0    1    1    1    1\n",
      "    0    1    0    0    3    2    5    0    0    2    1    0   23    0\n",
      "    0    4    0    1    0    0    0    1    1    2    1    0    1    0\n",
      "    0    4    1    0    1    1    5    1    1    0    1    0    0    0\n",
      "    1    0    0    2    2    3    0    1    0    4    3    3    1    4\n",
      "    0    0    0    6    1    2    1    0    5    3    0    0    1    2\n",
      "    0    5    0    0    2    1    1    4   15    0    0    1    1    3\n",
      "    1    0    1    4    1    1    2    8    1    3    0    0    0    0\n",
      "    1    3    2    1    0    1    0    2    0    0    0    0    1    1\n",
      "    0    1    3    7    0    0   42    4    0    1    2    3    1    0\n",
      "    1    3    2    0    0    1    0    0    0    4    2    0    0    8\n",
      "    2    0    1   15    0    0]\n"
     ]
    }
   ],
   "source": [
    "# now, to test the space, you can print vector representation for some words\n",
    "print('house:', space_1k['house'])"
   ]
  },
  {
   "cell_type": "markdown",
   "metadata": {},
   "source": [
    "Oxford Advanced Dictionary has 185,000 words, hence 1,000 words is not representative. We trained a model with 10,000 words, and 50 dimensions on truncated SVD. All matrices are available in the folder `pretrained` of the `wikipedia.zip`file. These are `ktw_wikipediaktw.npy`, `raw_wikipediaktw.npy`, `ppmi_wikipediaktw.npy`, `svd50_wikipedia10k.npy`. Make sure they are in your path as we load them below."
   ]
  },
  {
   "cell_type": "code",
   "execution_count": 5,
   "metadata": {
    "scrolled": true
   },
   "outputs": [
    {
     "name": "stdout",
     "output_type": "stream",
     "text": [
      "Please wait...\n",
      "Done.\n"
     ]
    }
   ],
   "source": [
    "import numpy as np\n",
    "\n",
    "numdims = 10000\n",
    "svddim = 50\n",
    "\n",
    "print('Please wait...')\n",
    "ktw_10k       = np.load('wikipedia/wikipedia/pretrained/ktw_wikipediaktw.npy', allow_pickle=True)\n",
    "space_10k     = np.load('wikipedia/wikipedia/pretrained/raw_wikipediaktw.npy', allow_pickle=True).all()\n",
    "ppmispace_10k = np.load('wikipedia/wikipedia/pretrained/ppmi_wikipediaktw.npy', allow_pickle=True).all()\n",
    "svdspace_10k  = np.load('wikipedia/wikipedia/pretrained/svd50_wikipedia10k.npy', allow_pickle=True).all()\n",
    "print('Done.')\n"
   ]
  },
  {
   "cell_type": "code",
   "execution_count": 6,
   "metadata": {},
   "outputs": [
    {
     "name": "stdout",
     "output_type": "stream",
     "text": [
      "house: [2554 3774 3105 ...    0    0    0]\n"
     ]
    }
   ],
   "source": [
    "# testing semantic space\n",
    "print('house:', space_10k['house'])"
   ]
  },
  {
   "cell_type": "markdown",
   "metadata": {},
   "source": [
    "## 3. Testing semantic similarity\n",
    "\n",
    "The file `similarity_judgements.txt` contains 7,576 pairs of words and their lexical and visual similarities (based on the pictures) collected through crowd-sourcing using Mechanical Turk as described in [1]. The score range from 1 (highly dissimilar) to 5 (highly similar). Note: this is a different dataset from the phrase similarity dataset we discussed during the lecture [2]. You can find more details about how they were collected in the papers.\n",
    "\n",
    "The following code will transform similarity scores into a Python-friendly format:"
   ]
  },
  {
   "cell_type": "code",
   "execution_count": 7,
   "metadata": {},
   "outputs": [
    {
     "name": "stdout",
     "output_type": "stream",
     "text": [
      "number of available words to test: 155\n",
      "number of available word pairs to test: 774\n"
     ]
    }
   ],
   "source": [
    "word_pairs = [] # test suit word pairs\n",
    "semantic_similarity = [] \n",
    "visual_similarity = []\n",
    "test_vocab = set()\n",
    "\n",
    "for index, line in enumerate(open('similarity_judgements.txt')):\n",
    "    data = line.strip().split('\\t')\n",
    "    if index > 0 and len(data) == 3:\n",
    "        w1, w2 = tuple(data[0].split('#'))\n",
    "        # Checks if both words from each pair exist in the word matrix.\n",
    "        if w1 in ktw_10k and w2 in ktw_10k:\n",
    "            word_pairs.append((w1, w2))\n",
    "            test_vocab.update([w1, w2])\n",
    "            semantic_similarity.append(float(data[1]))\n",
    "            visual_similarity.append(float(data[2]))\n",
    "        \n",
    "print('number of available words to test:', len(test_vocab-(test_vocab-set(ktw_10k)))) # here ktw should be ktw_10k; i.e. the intersection set of test_vocab & ktw_10k\n",
    "print('number of available word pairs to test:', len(word_pairs))\n",
    "#list(zip(word_pairs, visual_similarity, semantic_similarity))"
   ]
  },
  {
   "cell_type": "markdown",
   "metadata": {},
   "source": [
    "We are going to test how the cosine similarity between vectors of each of the three spaces (normal space, ppmi, svd) compares with the human similarity judgements for the words in the similarity dataset. Which of the three spaces best approximates human judgements?\n",
    "\n",
    "For comparison of several scores, we can use [Spearman correlation coefficient](https://en.wikipedia.org/wiki/Spearman's_rank_correlation_coefficient) which is implemented in `scipy.stats.spearmanr` [here](https://docs.scipy.org/doc/scipy/reference/generated/scipy.stats.spearmanr.html). The values of the Sperman correlation coefficient range from -1, 0 to 1, where 0 indicates no correlation, 1 perfect correaltion and -1 negative correlation. Hence, the greater the number the better the similarity scores align. The p values tells us if the coefficient is statistically significant. For this to be the case, it must be less than or equal to $< 0.05$.\n",
    "\n",
    "Here is how you can calculate Pearson's correlation coefficient betweeen the scores of visual similarity and semantic similarity of the available words in the test suite:"
   ]
  },
  {
   "cell_type": "code",
   "execution_count": 8,
   "metadata": {},
   "outputs": [
    {
     "name": "stdout",
     "output_type": "stream",
     "text": [
      "Visual Similarity vs. Semantic Similarity:\n",
      "rho     = 0.7122\n",
      "p-value = 0.0000\n"
     ]
    }
   ],
   "source": [
    "from scipy import stats\n",
    "\n",
    "rho, pval = stats.spearmanr(semantic_similarity, visual_similarity)\n",
    "print(\"\"\"Visual Similarity vs. Semantic Similarity:\n",
    "rho     = {:.4f}\n",
    "p-value = {:.4f}\"\"\".format(rho, pval))\n"
   ]
  },
  {
   "cell_type": "markdown",
   "metadata": {},
   "source": [
    "Let's now calculate the cosine similarity scores of all word pairs in an ordered list using all three matrices. **[6 marks]**"
   ]
  },
  {
   "cell_type": "code",
   "execution_count": 9,
   "metadata": {},
   "outputs": [],
   "source": [
    "from scipy.spatial import distance\n",
    "\n",
    "raw_similarities  = [1 - distance.cosine(space_10k[w1], space_10k[w2]) for w1, w2 in word_pairs] \n",
    "ppmi_similarities = [1 - distance.cosine(ppmispace_10k[w1], ppmispace_10k[w2]) for w1, w2 in word_pairs]\n",
    "svd_similarities  = [1 - distance.cosine(svdspace_10k[w1], svdspace_10k[w2]) for w1, w2 in word_pairs]\n",
    "# 1-cosine vs. cosine => convert range[-1,1] to [0,2]?\n",
    "# pay attention to the interpretation!"
   ]
  },
  {
   "cell_type": "markdown",
   "metadata": {},
   "source": [
    "Calculate correlation coefficients between lists of similarity scores and the real semantic similarity scores from the experiment. The scores of what model best correlates them? Is this expected? **[6 marks]**"
   ]
  },
  {
   "cell_type": "code",
   "execution_count": 10,
   "metadata": {},
   "outputs": [
    {
     "name": "stdout",
     "output_type": "stream",
     "text": [
      "Correlation Coefficients:\n",
      "Raw Similarities: 0.1522361772810631\n",
      "PPMI Similarities: 0.45474430383677467\n",
      "SVD Similarities: 0.42322095953128175\n",
      "\n",
      "Best Model(based on absolute correlation coefficient): PPMI Similarities\n"
     ]
    }
   ],
   "source": [
    "# your code should go here\n",
    "# Calculate correlation coefficients for raw similarities\n",
    "raw_correlation = stats.spearmanr(raw_similarities, semantic_similarity)\n",
    "\n",
    "# Calculate correlation coefficients for PPMI similarities\n",
    "ppmi_correlation = stats.spearmanr(ppmi_similarities, semantic_similarity)\n",
    "\n",
    "# Calculate correlation coefficients for SVD similarities\n",
    "svd_correlation = stats.spearmanr(svd_similarities, semantic_similarity)\n",
    "\n",
    "# Determine which model has the highest correlation coefficient\n",
    "best_model = max([(abs(raw_correlation[0]), 'Raw Similarities'),\n",
    "                  (abs(ppmi_correlation[0]), 'PPMI Similarities'),\n",
    "                  (abs(svd_correlation[0]), 'SVD Similarities')])\n",
    "\n",
    "# Print correlation coefficients and the best model\n",
    "print(\"Correlation Coefficients:\")\n",
    "print(\"Raw Similarities:\", raw_correlation[0])\n",
    "print(\"PPMI Similarities:\", ppmi_correlation[0])\n",
    "print(\"SVD Similarities:\", svd_correlation[0])\n",
    "print(\"\\nBest Model(based on absolute correlation coefficient):\", best_model[1])"
   ]
  },
  {
   "cell_type": "markdown",
   "metadata": {},
   "source": [
    "**Your answer should go here:**"
   ]
  },
  {
   "cell_type": "markdown",
   "metadata": {},
   "source": [
    "We can also calculate correlation coefficients between lists of cosine similarity scores and the real visual similarity scores from the experiment. Which similarity model best correlates with them? How do the correlation coefficients compare with those from the previous comparison - and can you speculate why do we get such results? **[7 marks]**"
   ]
  },
  {
   "cell_type": "code",
   "execution_count": 11,
   "metadata": {},
   "outputs": [
    {
     "name": "stdout",
     "output_type": "stream",
     "text": [
      "Correlation Coefficients with Visual Similarity:\n",
      "Raw Similarities: 0.12117933714649261\n",
      "PPMI Similarities: 0.3837712858901843\n",
      "SVD Similarities: 0.3096551629349149\n",
      "\n",
      "Best Model for Visual Similarity (based on correlation coefficient): PPMI Similarities\n"
     ]
    }
   ],
   "source": [
    "# Your code should go here...\n",
    "# Calculate correlation coefficients for cosine similarities\n",
    "raw_visual_correlation = stats.spearmanr(raw_similarities, visual_similarity)\n",
    "ppmi_visual_correlation = stats.spearmanr(ppmi_similarities, visual_similarity)\n",
    "svd_visual_correlation = stats.spearmanr(svd_similarities, visual_similarity)\n",
    "\n",
    "# Print correlation coefficients\n",
    "print(\"Correlation Coefficients with Visual Similarity:\")\n",
    "print(\"Raw Similarities:\", raw_visual_correlation[0])\n",
    "print(\"PPMI Similarities:\", ppmi_visual_correlation[0])\n",
    "print(\"SVD Similarities:\", svd_visual_correlation[0])\n",
    "\n",
    "# Determine which model has the highest correlation coefficient\n",
    "best_model_visual = max([(abs(raw_visual_correlation[0]), 'Raw Similarities'),\n",
    "                        (abs(ppmi_visual_correlation[0]), 'PPMI Similarities'),\n",
    "                        (abs(svd_visual_correlation[0]), 'SVD Similarities')])\n",
    "\n",
    "# Print the best model for visual similarity\n",
    "print(\"\\nBest Model for Visual Similarity (based on correlation coefficient):\", best_model_visual[1])"
   ]
  },
  {
   "cell_type": "markdown",
   "metadata": {},
   "source": [
    "**Your answer should go here:**\n",
    "\n",
    "Pearson vs. Spearman correlation coefficients\n",
    "\n",
    "Pearson: suitable for linear relationships between metric or continuous variables.\n",
    "\n",
    "Spearman: more applicable; not affected by outliers because it is calculated by ranking the data."
   ]
  },
  {
   "cell_type": "markdown",
   "metadata": {},
   "source": [
    "## 4. Operations on similarities"
   ]
  },
  {
   "cell_type": "markdown",
   "metadata": {},
   "source": [
    "We can perform mathematical operations on vectors to derive meaning predictions.\n",
    "\n",
    "For example, we can perform `king - man` and add the resulting vector to `woman` and we hope to get the vector for `queen`. What would be the result of `stockholm - sweden + denmark`? Why? **[3 marks]**\n",
    "\n",
    "If you want to learn more about vector differences between words (and words in analogy relations), check this paper [4]."
   ]
  },
  {
   "cell_type": "markdown",
   "metadata": {},
   "source": [
    "**Your answer should go here:**"
   ]
  },
  {
   "cell_type": "markdown",
   "metadata": {},
   "source": [
    "Here is some code that allows us to calculate such comparisons."
   ]
  },
  {
   "cell_type": "code",
   "execution_count": 12,
   "metadata": {},
   "outputs": [],
   "source": [
    "def normalize(vec):\n",
    "    return vec / veclen(vec)\n",
    "\n",
    "def find_similar_to(vec1, space):\n",
    "    # vector similarity funciton\n",
    "    #sim_fn = lambda a, b: 1-distance.euclidean(normalize(a), normalize(b))\n",
    "    #sim_fn = lambda a, b: 1-distance.correlation(a, b)\n",
    "    #sim_fn = lambda a, b: 1-distance.cityblock(normalize(a), normalize(b))\n",
    "    #sim_fn = lambda a, b: 1-distance.chebyshev(normalize(a), normalize(b))\n",
    "    #sim_fn = lambda a, b: np.dot(normalize(a), normalize(b))\n",
    "    sim_fn = lambda a, b: 1-distance.cosine(a, b)\n",
    "\n",
    "    sims = [\n",
    "        (word2, sim_fn(vec1, space[word2]))\n",
    "        for word2 in space.keys()\n",
    "    ]\n",
    "    return sorted(sims, key = lambda p:p[1], reverse=True)"
   ]
  },
  {
   "cell_type": "markdown",
   "metadata": {},
   "source": [
    "Here is how you apply this code. Comment on the results you get. **[3 marks]**"
   ]
  },
  {
   "cell_type": "code",
   "execution_count": 13,
   "metadata": {},
   "outputs": [
    {
     "data": {
      "text/plain": [
       "[('long', 0.8733111261346901),\n",
       " ('above', 0.8259671977311955),\n",
       " ('around', 0.8030776291120685),\n",
       " ('sun', 0.7692439111243973),\n",
       " ('just', 0.7678481974778111),\n",
       " ('wide', 0.767257431992253),\n",
       " ('each', 0.7665960260861158),\n",
       " ('circle', 0.7647746702909336),\n",
       " ('length', 0.7601066921319761),\n",
       " ('almost', 0.7542351860536628)]"
      ]
     },
     "execution_count": 13,
     "metadata": {},
     "output_type": "execute_result"
    }
   ],
   "source": [
    "# short = normalize(svdspace_10k['short'])\n",
    "light = normalize(svdspace_10k['light'])\n",
    "long = normalize(svdspace_10k['long'])\n",
    "heavy = normalize(svdspace_10k['heavy'])\n",
    "\n",
    "find_similar_to(light - (heavy - long), svdspace_10k)[:10] # expected answer: short"
   ]
  },
  {
   "cell_type": "code",
   "execution_count": 14,
   "metadata": {
    "scrolled": true
   },
   "outputs": [
    {
     "data": {
      "text/plain": [
       "[('stockholm', 0.9571449438177746),\n",
       " ('prague', 0.9255634442739451),\n",
       " ('amsterdam', 0.8997980639287134),\n",
       " ('brussels', 0.8969830643584371),\n",
       " ('oslo', 0.892292311243968),\n",
       " ('hamburg', 0.8911355385331753),\n",
       " ('cologne', 0.8904376966250224),\n",
       " ('milan', 0.8895360380024667),\n",
       " ('munich', 0.8874478811027279),\n",
       " ('frankfurt', 0.8872747257104567)]"
      ]
     },
     "execution_count": 14,
     "metadata": {},
     "output_type": "execute_result"
    }
   ],
   "source": [
    "stockholm = normalize(svdspace_10k['stockholm'])\n",
    "sweden = normalize(svdspace_10k['sweden'])\n",
    "denmark = normalize(svdspace_10k['denmark'])\n",
    "\n",
    "find_similar_to(stockholm - sweden + denmark, svdspace_10k)[:10] # expected answer: copenhagen"
   ]
  },
  {
   "cell_type": "code",
   "execution_count": 15,
   "metadata": {},
   "outputs": [],
   "source": [
    "# svdspace_10k['copenhagen'] - the expected word does exist"
   ]
  },
  {
   "cell_type": "markdown",
   "metadata": {},
   "source": [
    "**Your answer should go here:**\n",
    "Based on my expectations, the returned most similar word should be \"short\". However, the result does not return \"short\", though the returned word list has a intuitively similar topic. Instead, it returns the words most similar to \"long\".(The same with \"stockholm - sweden + denmark\".) \n",
    "\n",
    "Below are why this happens i guess:\n",
    "\n",
    "Vector representation: It may be because in word vector space, the similarity between \"short\" and \"long\" is greater than the similarity between \"light\" and \"short\". This may be because \"short\" and \"long\" are closer in some semantic sense in this word vector space, or their word vectors are more similar.\n",
    "\n",
    "Characteristics of word vector spaces: Word vector spaces are generated based on statistical information in the corpus, so the results are affected by the corpus. Using a different word vector space, or fine-tuning the space could help us to get the desired results."
   ]
  },
  {
   "cell_type": "code",
   "execution_count": 16,
   "metadata": {
    "scrolled": true
   },
   "outputs": [
    {
     "name": "stdout",
     "output_type": "stream",
     "text": [
      "short vs. long: 0.808121714766419\n",
      "light vs. short: 0.6356790412973713\n"
     ]
    }
   ],
   "source": [
    "print(\"short vs. long:\",1-distance.cosine(svdspace_10k['short'],svdspace_10k['long']))\n",
    "print(\"light vs. short:\",1-distance.cosine(svdspace_10k['light'],svdspace_10k['short']))"
   ]
  },
  {
   "cell_type": "code",
   "execution_count": 17,
   "metadata": {},
   "outputs": [],
   "source": [
    "# find_similar_to(denmark - sweden + stockholm, svdspace_10k)[:10] \n",
    "## Considering the different order of operations, while the results appear same."
   ]
  },
  {
   "cell_type": "code",
   "execution_count": 18,
   "metadata": {},
   "outputs": [
    {
     "data": {
      "text/plain": [
       "[('long', 0.6455903190370874),\n",
       " ('light', 0.5756309144130762),\n",
       " ('short', 0.22665051391680424),\n",
       " ('about', 0.2062232575609404),\n",
       " ('around', 0.20341064658972596),\n",
       " ('than', 0.1997623801104953),\n",
       " ('longer', 0.19775518996857122),\n",
       " ('through', 0.19530678790677225),\n",
       " ('each', 0.19315737065635885),\n",
       " ('a', 0.1897425288444996)]"
      ]
     },
     "execution_count": 18,
     "metadata": {},
     "output_type": "execute_result"
    }
   ],
   "source": [
    "## try different representation methods， \"short\" appeared\n",
    "# PPMI\n",
    "light = normalize(ppmispace_10k['light'])\n",
    "long = normalize(ppmispace_10k['long'])\n",
    "heavy = normalize(ppmispace_10k['heavy'])\n",
    "\n",
    "find_similar_to(light - (heavy - long), ppmispace_10k)[:10] # expected answer: short"
   ]
  },
  {
   "cell_type": "code",
   "execution_count": 19,
   "metadata": {
    "scrolled": true
   },
   "outputs": [
    {
     "data": {
      "text/plain": [
       "[('stockholm', 0.6471741063767443),\n",
       " ('denmark', 0.527048298126461),\n",
       " ('paris', 0.14192180704346102),\n",
       " ('prague', 0.13330803087198895),\n",
       " ('moscow', 0.12723873038417588),\n",
       " ('london', 0.12179613535983802),\n",
       " ('berlin', 0.11239954334145585),\n",
       " ('munich', 0.11111614973189443),\n",
       " ('oslo', 0.10943906436877393),\n",
       " ('vienna', 0.10922784597519919)]"
      ]
     },
     "execution_count": 19,
     "metadata": {},
     "output_type": "execute_result"
    }
   ],
   "source": [
    "stockholm = normalize(ppmispace_10k['stockholm'])\n",
    "sweden = normalize(ppmispace_10k['sweden'])\n",
    "denmark = normalize(ppmispace_10k['denmark'])\n",
    "\n",
    "find_similar_to(stockholm - sweden + denmark, ppmispace_10k)[:10] # expected answer: copenhagen"
   ]
  },
  {
   "cell_type": "code",
   "execution_count": 20,
   "metadata": {},
   "outputs": [
    {
     "name": "stdout",
     "output_type": "stream",
     "text": [
      "sm vs. ch: 0.9166679278319493\n",
      "ch vs. dk: 0.5358611624270834\n"
     ]
    }
   ],
   "source": [
    "print(\"sm vs. ch:\",1-distance.cosine(svdspace_10k['stockholm'],svdspace_10k['copenhagen']))\n",
    "print(\"ch vs. dk:\",1-distance.cosine(svdspace_10k['copenhagen'],svdspace_10k['denmark']))"
   ]
  },
  {
   "cell_type": "code",
   "execution_count": 21,
   "metadata": {},
   "outputs": [
    {
     "name": "stdout",
     "output_type": "stream",
     "text": [
      "sm vs. ch: 0.1607946310921181\n",
      "ch vs. dk: 0.12763734813237693\n"
     ]
    }
   ],
   "source": [
    "print(\"sm vs. ch:\",1-distance.cosine(ppmispace_10k['stockholm'],ppmispace_10k['copenhagen']))\n",
    "print(\"ch vs. dk:\",1-distance.cosine(ppmispace_10k['copenhagen'],ppmispace_10k['denmark']))"
   ]
  },
  {
   "cell_type": "markdown",
   "metadata": {},
   "source": [
    "Find 5 similar pairs of pairs of words and test them. Hint: google for `word analogies examples`. You can also construct analogies that are not only lexical but also express other relations such as grammatical relations, e.g. `see, saw, leave, ?` or analogies that are based on world knowledge as in `question-words.txt` from the [Google analogy dataset](http://download.tensorflow.org/data/questions-words.txt) described in [3]. Does the resulting vector similarity confirm your expectations? Remember you can only do this test if the words are contained in our vector space with 10,000 dimensions. **[10 marks]**"
   ]
  },
  {
   "cell_type": "code",
   "execution_count": 22,
   "metadata": {},
   "outputs": [
    {
     "name": "stdout",
     "output_type": "stream",
     "text": [
      "Similar Pairs for Analogy 1 (love - hate + sweet):\n",
      " [('sweet', 0.6772237829945578), ('love', 0.6213929874619027), ('s', 0.20137267557036642), ('my', 0.195772511699837), ('song', 0.1931407595156005), ('like', 0.1885200595257016), ('album', 0.17900034659202524), ('her', 0.17816860524654987), ('me', 0.1762242431173946), ('your', 0.17532521314546579)]\n",
      "\n",
      "Similar Pairs for Analogy 2 (north - south + east):\n",
      " [('north', 0.6994557089885227), ('east', 0.6935156652115283), ('west', 0.4435474065908418), ('41', 0.3682912039801547), ('34', 0.36688584215396913), ('59', 0.3640116694504689), ('39', 0.36251349163878877), ('57', 0.35771572136525065), ('38', 0.3567062560473737), ('residing', 0.35547113637504346)]\n",
      "\n",
      "Similar Pairs for Analogy 3 (see - saw + leave):\n",
      " [('leave', 0.6183099577877832), ('see', 0.5041967031219105), ('make', 0.17141552301577323), ('take', 0.16858952627217827), ('go', 0.16635135035955062), ('give', 0.1642441561134178), ('history', 0.15961478631610337), ('use', 0.15912477588721963), ('where', 0.15527685257012935), ('external', 0.154447996079634)]\n",
      "\n",
      "Similar Pairs for Analogy 4 (father - son + mother):\n",
      " [('mother', 0.713780553422687), ('father', 0.5980991100914551), ('her', 0.280720076315951), ('she', 0.2507065968401856), ('wife', 0.24307055337793992), ('he', 0.23825983978341936), ('him', 0.22497120265317982), ('parents', 0.2228810911460407), ('his', 0.21338140614631984), ('when', 0.18320348789060314)]\n",
      "\n",
      "Similar Pairs for Analogy 5 (milk - cow + eggs):\n",
      " [('milk', 0.6535227606196228), ('eggs', 0.5756300929761823), ('meat', 0.19595066737084477), ('fruits', 0.1799723343155043), ('beans', 0.17575544449567937), ('vegetables', 0.1745029241960594), ('butter', 0.17422901908428323), ('beef', 0.17093490462907546), ('bread', 0.16295794329682356), ('seeds', 0.15932649256610365)]\n"
     ]
    }
   ],
   "source": [
    "# Your code should go here...\n",
    "# Ref: https://www.enchantedlearning.com/sampletests/verbalanalogies/\n",
    "\n",
    "# 1. \"love\" is to \"hate\" as \"sweet\" is to ? expected: sour(candy, gift, nice, Valentine,...)\n",
    "similar_pairs_1 = find_similar_to(ppmispace_10k['love'] - ppmispace_10k['hate'] + ppmispace_10k['sweet'], ppmispace_10k)[:10]\n",
    "\n",
    "# 2. \"north\" is to \"south\" as \"east\" is to ? expected: west(up, left, down, center,...)\n",
    "similar_pairs_2 = find_similar_to(ppmispace_10k['north'] - ppmispace_10k['south'] + ppmispace_10k['east'], ppmispace_10k)[:10]\n",
    "\n",
    "# 3. \"see\" is to \"saw\" as \"leave\" is to ? expected: left\n",
    "similar_pairs_3 = find_similar_to(ppmispace_10k['see'] - ppmispace_10k['saw'] + ppmispace_10k['leave'], ppmispace_10k)[:10]\n",
    "\n",
    "# 4. \"father\" is to \"son\" as \"mother\" is to ? expected: daughter\n",
    "similar_pairs_4 = find_similar_to(ppmispace_10k['father'] - ppmispace_10k['son'] + ppmispace_10k['mother'], ppmispace_10k)[:10]\n",
    "\n",
    "# 5. \"milk\" is to \"cow\" as \"eggs\" is to ? expected: chicken(feather, lamb, pie, orange,...)\n",
    "similar_pairs_5 = find_similar_to(ppmispace_10k['milk'] - ppmispace_10k['cow'] + ppmispace_10k['eggs'], ppmispace_10k)[:10]\n",
    "\n",
    "# Print results\n",
    "print(\"Similar Pairs for Analogy 1 (love - hate + sweet):\\n\", similar_pairs_1)\n",
    "print(\"\\nSimilar Pairs for Analogy 2 (north - south + east):\\n\", similar_pairs_2)\n",
    "print(\"\\nSimilar Pairs for Analogy 3 (see - saw + leave):\\n\", similar_pairs_3)\n",
    "print(\"\\nSimilar Pairs for Analogy 4 (father - son + mother):\\n\", similar_pairs_4)\n",
    "print(\"\\nSimilar Pairs for Analogy 5 (milk - cow + eggs):\\n\", similar_pairs_5)"
   ]
  },
  {
   "cell_type": "code",
   "execution_count": 23,
   "metadata": {},
   "outputs": [
    {
     "name": "stdout",
     "output_type": "stream",
     "text": [
      "target 'left' exists\n",
      "target 'sour' does not exist\n",
      "target 'nice' exists\n",
      "target 'daughter' exists\n"
     ]
    }
   ],
   "source": [
    "test_target = ['left', 'sour', 'nice', 'daughter']\n",
    "for word in test_target:\n",
    "    check_existence = lambda w: f\"target '{w}' exists\" if w in ppmispace_10k else f\"target '{w}' does not exist\"\n",
    "    print(check_existence(word))"
   ]
  },
  {
   "cell_type": "code",
   "execution_count": 24,
   "metadata": {
    "scrolled": true
   },
   "outputs": [
    {
     "name": "stdout",
     "output_type": "stream",
     "text": [
      "Similar Pairs for Analogy 1 (love - hate + sweet):\n",
      " [('sweet', 0.9019111082574507), ('love', 0.8692463975350873), ('song', 0.8521931783633939), ('girl', 0.8518121319082917), ('baby', 0.8409831300845901), ('cat', 0.8345027264639273), ('boy', 0.8216282342389759), ('dream', 0.8117562713554443), ('soul', 0.7995940671557389), ('little', 0.7962444038618905)]\n",
      "\n",
      "Similar Pairs for Analogy 2 (north - south + east):\n",
      " [('north', 0.9843013133089371), ('west', 0.9491403863140437), ('94', 0.8416520305403512), ('interstate', 0.8280754682547768), ('59', 0.8227276112113504), ('81', 0.8199631551445681), ('highway', 0.8182442121450889), ('83', 0.8181702612740784), ('77', 0.8177665381106839), ('47', 0.8163972112219406)]\n",
      "\n",
      "Similar Pairs for Analogy 3 (see - saw + leave):\n",
      " [('leave', 0.7113980550779404), ('see', 0.7039598056847666), ('enter', 0.6867888303663497), ('find', 0.6719347730389507), ('learn', 0.6570663216260377), ('go', 0.6528884257332832), ('call', 0.6519290174549311), ('discover', 0.6517616017470277), ('tell', 0.6508048901382525), ('take', 0.6502940425534834)]\n",
      "\n",
      "Similar Pairs for Analogy 4 (father - son + mother):\n",
      " [('mother', 0.9086680034393361), ('woman', 0.8889438788527315), ('herself', 0.8587412575820355), ('child', 0.8473797309043004), ('her', 0.8464856871339895), ('parents', 0.8383652173602714), ('whom', 0.8260495121669537), ('man', 0.8257658215873235), ('grandmother', 0.8208454282685249), ('bride', 0.8135925972415157)]\n",
      "\n",
      "Similar Pairs for Analogy 5 (milk - cow + eggs):\n",
      " [('beans', 0.9257104268198365), ('seeds', 0.907719962366497), ('milk', 0.9024692728436173), ('eggs', 0.9010205974594517), ('meat', 0.8978461578536198), ('vegetables', 0.8964579757220921), ('fruits', 0.8922653797179672), ('drinks', 0.8859917695264661), ('grain', 0.8810958180149587), ('tea', 0.876829758812239)]\n"
     ]
    }
   ],
   "source": [
    "## try different representation methods\n",
    "# 1. \"love\" is to \"hate\" as \"sweet\" is to ?\n",
    "similar_pairs_1 = find_similar_to(svdspace_10k['love'] - svdspace_10k['hate'] + svdspace_10k['sweet'], svdspace_10k)[:10]\n",
    "\n",
    "# 2. \"north\" is to \"south\" as \"east\" is to ?\n",
    "similar_pairs_2 = find_similar_to(svdspace_10k['north'] - svdspace_10k['south'] + svdspace_10k['east'], svdspace_10k)[:10]\n",
    "\n",
    "# 3. \"see\" is to \"saw\" as \"leave\" is to ?\n",
    "similar_pairs_3 = find_similar_to(svdspace_10k['see'] - svdspace_10k['saw'] + svdspace_10k['leave'], svdspace_10k)[:10]\n",
    "\n",
    "# 4. \"father\" is to \"son\" as \"mother\" is to ?\n",
    "similar_pairs_4 = find_similar_to(svdspace_10k['father'] - svdspace_10k['son'] + svdspace_10k['mother'], svdspace_10k)[:10]\n",
    "\n",
    "# 5. \"milk\" is to \"cow\" as \"eggs\" is to ?\n",
    "similar_pairs_5 = find_similar_to(svdspace_10k['milk'] - svdspace_10k['cow'] + svdspace_10k['eggs'], svdspace_10k)[:10]\n",
    "\n",
    "# Print results\n",
    "print(\"Similar Pairs for Analogy 1 (love - hate + sweet):\\n\", similar_pairs_1)\n",
    "print(\"\\nSimilar Pairs for Analogy 2 (north - south + east):\\n\", similar_pairs_2)\n",
    "print(\"\\nSimilar Pairs for Analogy 3 (see - saw + leave):\\n\", similar_pairs_3)\n",
    "print(\"\\nSimilar Pairs for Analogy 4 (father - son + mother):\\n\", similar_pairs_4)\n",
    "print(\"\\nSimilar Pairs for Analogy 5 (milk - cow + eggs):\\n\", similar_pairs_5)"
   ]
  },
  {
   "cell_type": "code",
   "execution_count": 25,
   "metadata": {},
   "outputs": [
    {
     "name": "stdout",
     "output_type": "stream",
     "text": [
      "target 'left' exists\n",
      "target 'sour' does not exist\n",
      "target 'nice' exists\n",
      "target 'daughter' exists\n"
     ]
    }
   ],
   "source": [
    "for word in test_target:\n",
    "    check_existence = lambda w: f\"target '{w}' exists\" if w in svdspace_10k else f\"target '{w}' does not exist\"\n",
    "    print(check_existence(word))"
   ]
  },
  {
   "cell_type": "markdown",
   "metadata": {},
   "source": [
    "The resulting vector similarity confirm my expectations ***to some extent***."
   ]
  },
  {
   "cell_type": "markdown",
   "metadata": {},
   "source": [
    "## 5. Semantic composition and phrase similarity **[20 marks]**\n",
    "\n",
    "In this task, we are going to examine at how the composed vectors of phrases by different semantic composition functions/models introduced in [2] correlate with human judgements of similarity between phrases. We will use the the dataset from this paper which is stored in `mitchell_lapata_acl08.txt`. If you are interested about furtehr details about this task also refer to this paper.\n",
    "\n",
    "(i) Process the dataset. The dataset contains human judgemements of similarity between phrases recorded one per line. The first column indicates the id of a participant making a judgement (`participant`), the next column is `verb`, followed by `noun` and `landmark`. From these three columns we can construct phrases that were compared by human informants, namely `verb noun` vs `verb landmark`. The next column `input` indicates a similarity score a participant assigned to a pair of such phrases on a scale from 1 to 7 where 1 is lowest and 7 is highest. The last column `hilo` groups the phrases into two sets: phrases where we expect low and phrases where we expect high similarity scores. This is because we want to test our compositional functions on two tasks and examine whether a function is discriminative between them. Correlation between scores could also be due to other reasons than semantic similarity and hence good prediction on both tasks simultaneously shows that a function is truly discriminating the phrases using some semantic criteria.\n",
    "\n",
    "For extracting information you can use the code from the lecture to start with. How to structure this data is up to you - a dictionary-like format would be a good choice. Remember that each example was judged by several participants and phrases will repeat in the dataset. Therefore, you have to collect all judgments for a particular set of phrases and average them. This will become useful in step (iii).\n",
    "\n",
    "(ii) Compose the vectors of the extracted word pairs by testing different compositional functions. In the lecture we introduced simple additive, simple multiplicative and combined models (details are described in [2]). Your task is to take a pair of phrases, e.g. the first example in the dataset `stray thought` and `stray roam` and for each phrase compute a composition of the vectors of their words using these functions, using one function per experiment run. For each phrase you will get a single vector. You can encode the words with any vector space introduced earlier (standard space, ppmi or svd) but your code should be structured in a way that it will be easy to switch between them. Finally, take the resulting (composed) vectors of phrase pairs in the dataset and calculate a cosine similarity between them.\n",
    "\n",
    "(iii) Now you have cosine similairity scores between vectors of phrases but how do they compare with the average human scores that you calculated from the individual judgements from the `input` column of the dataset for the same phrases? Calculate Spearman rank correlation coefficient between two lists of the scores both for the `high` and the `low` task . \n",
    "\n",
    "We use the Spearmank rank correlation coefficient (or Spearman's rho) rather than Peason's correlation coefficent because we cannot compare cosine scores with human judgements directly. Cosine is a constinuous measure and human judgements are expressed as ranks. Also, we cannot say if 0.28 to 1 is the same (or different) to 6 to 7 in the human scores.  The Spearman rank correlation coeffcient turns the scores for all examples within each group first to ranks and then these ranks are correlated (or approximated to a linear function). \n",
    "\n",
    "In the end you should get a table similar to the one below from the paper. What is the best compositional function from those that you evaluated with your vector spaces and why?\n",
    "\n",
    "<img src=\"res.png\" alt=\"drawing\" width=\"500\"/>\n"
   ]
  },
  {
   "cell_type": "markdown",
   "metadata": {},
   "source": [
    "  "
   ]
  },
  {
   "cell_type": "code",
   "execution_count": 26,
   "metadata": {},
   "outputs": [],
   "source": [
    "# your code should go here\n",
    "# Step 1: Processing the dataset\n",
    "dataset = {}  # Dictionary to store dataset\n",
    "with open('mitchell_lapata_acl08.txt', 'r') as file:\n",
    "    next(file)  # skip the first line (column name)\n",
    "    for line in file:\n",
    "        parts = line.strip().split(' ')\n",
    "        participant_id = parts[0]\n",
    "        verb = parts[1]\n",
    "        noun = parts[2]\n",
    "        landmark = parts[3]\n",
    "        similarity_score = float(parts[4])\n",
    "        similarity_group = parts[5]\n",
    "\n",
    "        # Construct phrases\n",
    "        phrase1 = f\"{verb} {noun}\"\n",
    "        phrase2 = f\"{verb} {landmark}\"\n",
    "\n",
    "        # Add entry to dataset\n",
    "        key = (phrase1, phrase2)\n",
    "        if key not in dataset:\n",
    "            dataset[key] = {'scores': [], 'group': similarity_group}\n",
    "        dataset[key]['scores'].append(similarity_score)"
   ]
  },
  {
   "cell_type": "code",
   "execution_count": 27,
   "metadata": {},
   "outputs": [],
   "source": [
    "# Step 2: Composing vectors\n",
    "# Implement encoding of words using chosen vector space representation\n",
    "# Function to encode a word using a selected vector space representation\n",
    "def encode_word(word, vector_space):\n",
    "    if word in vector_space:\n",
    "        return vector_space[word]\n",
    "    else: \n",
    "        return None\n",
    "\n",
    "# Define semantic composition functions (additive, multiplicative, combined)\n",
    "# Semantic composition functions\n",
    "def additive_composition(vec1, vec2):\n",
    "    if vec1 is not None and vec2 is not None:\n",
    "        return [x + y for x, y in zip(vec1, vec2)]\n",
    "    else:\n",
    "        return None\n",
    "\n",
    "def multiplicative_composition(vec1, vec2):\n",
    "    if vec1 is not None and vec2 is not None:\n",
    "        return [x * y for x, y in zip(vec1, vec2)]\n",
    "    else:\n",
    "        return None\n",
    "\n",
    "def combined_composition(vec1, vec2, a=0.3, b=0.2, c=0.5 ): # here weights are set mannually\n",
    "    if vec1 is not None and vec2 is not None:\n",
    "        weighted_sum = [a*x + b*y + c*x*y for x, y in zip(vec1, vec2)]\n",
    "        return weighted_sum\n",
    "    else:\n",
    "        return None\n",
    "\n",
    "# Compose vectors for each pair of phrases\n",
    "def compose_vectors(word1, word2, vector_space, composition_function):\n",
    "    \n",
    "    vec1 = encode_word(word1, vector_space)\n",
    "    vec2 = encode_word(word2, vector_space)\n",
    "    \n",
    "    composed_vec = composition_function(vec1, vec2)\n",
    "    \n",
    "    return composed_vec\n",
    "\n",
    "# # Example usage\n",
    "# phrase1 = \"stray thought\"\n",
    "# phrase2 = \"stray roam\"\n",
    "\n",
    "# additive_result = compose_vectors(phrase1, phrase2, svdspace_10k, additive_composition)\n",
    "# multiplicative_result = compose_vectors(phrase1, phrase2, svdspace_10k, multiplicative_composition)\n",
    "# combined_result = compose_vectors(phrase1, phrase2, svdspace_10k, combined_composition)\n",
    "\n",
    "# print(\"Additive composition result:\", additive_result)\n",
    "# print(\"Multiplicative composition result:\", multiplicative_result)\n",
    "# print(\"Combined composition result:\", combined_result)"
   ]
  },
  {
   "cell_type": "code",
   "execution_count": 28,
   "metadata": {},
   "outputs": [],
   "source": [
    "# Step 3: Calculating cosine similarity\n",
    "cosine_similarities = {}\n",
    "# vector_space = svdspace_10k\n",
    "vector_space = ppmispace_10k # switch between different vector spaces\n",
    "functionDict = {\"Add\":additive_composition, \"Multiply\":multiplicative_composition, \"Combined\":combined_composition}\n",
    "for pair, data in dataset.items():\n",
    "    # Get composed vectors for the current pair of phrases\n",
    "    phrase1, phrase2 = pair\n",
    "    word1_phrase1, word2_phrase1 = phrase1.split()\n",
    "    word1_phrase2, word2_phrase2 = phrase2.split()\n",
    "\n",
    "    # Get vector representations for different composition methods respectively\n",
    "    for model, composition_function in functionDict.items():\n",
    "        composed_vector1 = compose_vectors(word1_phrase1, word2_phrase1, vector_space, composition_function)\n",
    "        composed_vector2 = compose_vectors(word1_phrase2, word2_phrase2, vector_space, composition_function)\n",
    "    \n",
    "        # Compute cosine similarity between composed vectors of phrase pairs \n",
    "        if model not in cosine_similarities:\n",
    "            cosine_similarities[model] = {}\n",
    "        if composed_vector1 is not None and composed_vector2 is not None:\n",
    "            cosine_similarities[model][pair] = distance.cosine(composed_vector1, composed_vector2)"
   ]
  },
  {
   "cell_type": "code",
   "execution_count": 29,
   "metadata": {
    "scrolled": true
   },
   "outputs": [
    {
     "data": {
      "text/plain": [
       "{'Add': {('bow butler', 'bow submit'): 0.4594588325838541,\n",
       "  ('bow company', 'bow submit'): 0.49624922273390726,\n",
       "  ('boom sale', 'boom thunder'): 0.4466601985143872,\n",
       "  ('boom gun', 'boom thunder'): 0.4817832750951593,\n",
       "  ('bow head', 'bow submit'): 0.44922096015252266,\n",
       "  ('bow government', 'bow submit'): 0.4552515625213709,\n",
       "  ('boom noise', 'boom thunder'): 0.4539308360850818,\n",
       "  ('boom export', 'boom thunder'): 0.4449971255937708},\n",
       " 'Multiply': {('bow butler', 'bow submit'): 0.9916378075126581,\n",
       "  ('bow company', 'bow submit'): 0.8990508255691259,\n",
       "  ('boom sale', 'boom thunder'): 0.9969015128462371,\n",
       "  ('boom gun', 'boom thunder'): 0.9622922349435084,\n",
       "  ('bow head', 'bow submit'): 0.8961702458199792,\n",
       "  ('bow government', 'bow submit'): 0.7369626185927327,\n",
       "  ('boom noise', 'boom thunder'): 0.8754942491516382,\n",
       "  ('boom export', 'boom thunder'): 0.9827516201004473},\n",
       " 'Combined': {('bow butler', 'bow submit'): 0.5380984130508589,\n",
       "  ('bow company', 'bow submit'): 0.4934194076943256,\n",
       "  ('boom sale', 'boom thunder'): 0.5332813135922445,\n",
       "  ('boom gun', 'boom thunder'): 0.5488999930051259,\n",
       "  ('bow head', 'bow submit'): 0.49549647391737905,\n",
       "  ('bow government', 'bow submit'): 0.41626782904780146,\n",
       "  ('boom noise', 'boom thunder'): 0.5298197358960247,\n",
       "  ('boom export', 'boom thunder'): 0.6151832633733489}}"
      ]
     },
     "execution_count": 29,
     "metadata": {},
     "output_type": "execute_result"
    }
   ],
   "source": [
    "cosine_similarities"
   ]
  },
  {
   "cell_type": "code",
   "execution_count": 39,
   "metadata": {
    "scrolled": true
   },
   "outputs": [
    {
     "name": "stdout",
     "output_type": "stream",
     "text": [
      "Spearman Rank Correlation Coefficients for Model Add:\n",
      "  rho     = 0.5714\n",
      "  p-value = 0.1390\n",
      "Spearman Rank Correlation Coefficients for Model Multiply:\n",
      "  rho     = -0.7143\n",
      "  p-value = 0.0465\n",
      "Spearman Rank Correlation Coefficients for Model Combined:\n",
      "  rho     = -0.4048\n",
      "  p-value = 0.3199\n"
     ]
    }
   ],
   "source": [
    "# Step 4: Calculating Spearman rank correlation coefficient\n",
    "# Extract cosine similarities and human scores for high and low similarity groups\n",
    "high_cosine_similarities = {}\n",
    "low_cosine_similarities = {}\n",
    "\n",
    "for model in functionDict:\n",
    "    high_similarity_scores = [] # why inside: avoid repeatation\n",
    "    low_similarity_scores = []   \n",
    "    \n",
    "    for pair, data in dataset.items():\n",
    "        if pair in cosine_similarities[model]:\n",
    "            similarity_score = np.mean(data['scores'])\n",
    "            cosine_similarity = cosine_similarities[model][pair]\n",
    "\n",
    "            if model not in high_cosine_similarities:\n",
    "                high_cosine_similarities[model] = []\n",
    "            if model not in low_cosine_similarities:\n",
    "                low_cosine_similarities[model] = []\n",
    "\n",
    "            if data['group'] == 'high':\n",
    "                high_similarity_scores.append(similarity_score)\n",
    "                high_cosine_similarities[model].append(cosine_similarity)\n",
    "            else:\n",
    "                low_similarity_scores.append(similarity_score)\n",
    "                low_cosine_similarities[model].append(cosine_similarity)\n",
    "\n",
    "# Calculate general Spearman rank correlation coefficients\n",
    "similarity_scores = high_similarity_scores + low_similarity_scores # concatenate the two groups\n",
    "correlationDict = {}\n",
    "for model in functionDict:\n",
    "    rho, pval = stats.spearmanr(similarity_scores, high_cosine_similarities[model] + low_cosine_similarities[model])\n",
    "    \n",
    "    if model not in correlationDict:\n",
    "        correlationDict[model] = {}\n",
    "     \n",
    "    correlationDict[model]['rho'] = rho\n",
    "    correlationDict[model]['pval'] = pval\n",
    "    \n",
    "    print(f\"Spearman Rank Correlation Coefficients for Model {model}:\")\n",
    "    print(\"\"\"  rho     = {:.4f}\n",
    "  p-value = {:.4f}\"\"\".format(rho, pval))"
   ]
  },
  {
   "cell_type": "code",
   "execution_count": 50,
   "metadata": {},
   "outputs": [],
   "source": [
    "# Construct a similar table\n",
    "import pandas as pd\n",
    "\n",
    "high_cosine_sim_averages = {key: sum(values) / len(values) for key, values in high_cosine_similarities.items()}\n",
    "low_cosine_sim_averages = {key: sum(values) / len(values) for key, values in low_cosine_similarities.items()}\n",
    "\n",
    "data = {\n",
    "    'Model': ['Add', 'Multiply', 'Combined'],\n",
    "    'High': list(map(lambda x: '{:.2f}'.format(x), high_cosine_sim_averages.values())),\n",
    "    'Low': list(map(lambda x: '{:.2f}'.format(x), low_cosine_sim_averages.values())),\n",
    "    'ρ': list(map(lambda x: '{:.2f}'.format(x), [value['rho'] for value in correlationDict.values()])),\n",
    "    'p-value': [value['pval'] for value in correlationDict.values()]\n",
    "}\n",
    "\n",
    "df = pd.DataFrame(data)\n",
    "df['ρ'] = df.apply(lambda row: f\"{row['ρ']} *\" if row['p-value'] < 0.05 else str(row['ρ']), axis=1)\n"
   ]
  },
  {
   "cell_type": "code",
   "execution_count": 51,
   "metadata": {
    "scrolled": true
   },
   "outputs": [
    {
     "data": {
      "text/html": [
       "<div>\n",
       "<style scoped>\n",
       "    .dataframe tbody tr th:only-of-type {\n",
       "        vertical-align: middle;\n",
       "    }\n",
       "\n",
       "    .dataframe tbody tr th {\n",
       "        vertical-align: top;\n",
       "    }\n",
       "\n",
       "    .dataframe thead th {\n",
       "        text-align: right;\n",
       "    }\n",
       "</style>\n",
       "<table border=\"1\" class=\"dataframe\">\n",
       "  <thead>\n",
       "    <tr style=\"text-align: right;\">\n",
       "      <th></th>\n",
       "      <th>Model</th>\n",
       "      <th>High</th>\n",
       "      <th>Low</th>\n",
       "      <th>ρ</th>\n",
       "      <th>p-value</th>\n",
       "    </tr>\n",
       "  </thead>\n",
       "  <tbody>\n",
       "    <tr>\n",
       "      <th>0</th>\n",
       "      <td>Add</td>\n",
       "      <td>0.47</td>\n",
       "      <td>0.45</td>\n",
       "      <td>0.57</td>\n",
       "      <td>0.138960</td>\n",
       "    </tr>\n",
       "    <tr>\n",
       "      <th>1</th>\n",
       "      <td>Multiply</td>\n",
       "      <td>0.87</td>\n",
       "      <td>0.97</td>\n",
       "      <td>-0.71 *</td>\n",
       "      <td>0.046528</td>\n",
       "    </tr>\n",
       "    <tr>\n",
       "      <th>2</th>\n",
       "      <td>Combined</td>\n",
       "      <td>0.50</td>\n",
       "      <td>0.55</td>\n",
       "      <td>-0.40</td>\n",
       "      <td>0.319889</td>\n",
       "    </tr>\n",
       "  </tbody>\n",
       "</table>\n",
       "</div>"
      ],
      "text/plain": [
       "      Model  High   Low        ρ   p-value\n",
       "0       Add  0.47  0.45     0.57  0.138960\n",
       "1  Multiply  0.87  0.97  -0.71 *  0.046528\n",
       "2  Combined  0.50  0.55    -0.40  0.319889"
      ]
     },
     "execution_count": 51,
     "metadata": {},
     "output_type": "execute_result"
    }
   ],
   "source": [
    "df"
   ]
  },
  {
   "cell_type": "code",
   "execution_count": 3,
   "metadata": {},
   "outputs": [
    {
     "data": {
      "text/latex": [
       "\\begin{array}{|lllc|}\n",
       "\\hline\n",
       "{Model} & {High} & {Low} & {\\rho} \\\\\n",
       "\\hline\n",
       "{Add} & 0.47 & 0.45 & {0.57} \\\\\n",
       "{Multiply} & 0.87 & 0.97 & {-0.71*} \\\\\n",
       "{Combined} & 0.50 & 0.55 & {-0.40}\\\\\n",
       "\\hline\n",
       "\\end{array}"
      ],
      "text/plain": [
       "<IPython.core.display.Latex object>"
      ]
     },
     "metadata": {},
     "output_type": "display_data"
    }
   ],
   "source": [
    "from IPython.display import display, Latex\n",
    "\n",
    "latex_code = r\"\"\"\\begin{array}{|lllc|}\n",
    "\\hline\n",
    "{Model} & {High} & {Low} & {\\rho} \\\\\n",
    "\\hline\n",
    "{Add} & 0.47 & 0.45 & {0.57} \\\\\n",
    "{Multiply} & 0.87 & 0.97 & {-0.71*} \\\\\n",
    "{Combined} & 0.50 & 0.55 & {-0.40}\\\\\n",
    "\\hline\n",
    "\\end{array}\"\"\"\n",
    "\n",
    "display(Latex(latex_code))"
   ]
  },
  {
   "cell_type": "code",
   "execution_count": 4,
   "metadata": {},
   "outputs": [
    {
     "data": {
      "text/latex": [
       "\\begin{tabular}{llll}\n",
       "\\hline\n",
       "\\multicolumn{1}{|l}{Model} & {High} & {Low} & \\multicolumn{1}{c|}{$\\rho$} \\\\\n",
       "\\hline\n",
       "\\hline\n",
       "\\multicolumn{1}{|l}{Add} & 0.47 & 0.45 & \\multicolumn{1}{c|}{0.57} \\\\\n",
       "\\multicolumn{1}{|l}{Multiply} & 0.87 & 0.97 & \\multicolumn{1}{c|}{-0.71*} \\\\\n",
       "\\multicolumn{1}{|l}{Combined} & 0.50 & 0.55 & \\multicolumn{1}{c|}{-0.40}\\\\\n",
       "\\hline\n",
       "\\end{tabular}"
      ],
      "text/plain": [
       "<IPython.core.display.Latex object>"
      ]
     },
     "metadata": {},
     "output_type": "display_data"
    }
   ],
   "source": [
    "# latex_code = r\"\"\"\\begin{tabular}{llll}\n",
    "# \\hline\n",
    "# \\multicolumn{1}{|l}{Model} & {High} & {Low} & \\multicolumn{1}{c|}{$\\rho$} \\\\\n",
    "# \\hline\n",
    "# \\hline\n",
    "# \\multicolumn{1}{|l}{Add} & 0.47 & 0.45 & \\multicolumn{1}{c|}{0.57} \\\\\n",
    "# \\multicolumn{1}{|l}{Multiply} & 0.87 & 0.97 & \\multicolumn{1}{c|}{-0.71*} \\\\\n",
    "# \\multicolumn{1}{|l}{Combined} & 0.50 & 0.55 & \\multicolumn{1}{c|}{-0.40}\\\\\n",
    "# \\hline\n",
    "# \\end{tabular}\"\"\"\n",
    "\n",
    "# display(Latex(latex_code))"
   ]
  },
  {
   "cell_type": "markdown",
   "metadata": {},
   "source": [
    "**Any comments/thoughts should go here:**\n",
    "\n",
    "I tried svd & ppmi vector representations respectively, and the result of ppmi appears better.\n",
    "\n",
    "From my result, I tend to assume that the Multiply method of composition is the best one because its result is siginificant(p<0.05).\n",
    "\n",
    "While for the combined model, its weighing constants are hyperparameters, so there may exists a better combination to compose the vectors.\n"
   ]
  },
  {
   "cell_type": "markdown",
   "metadata": {},
   "source": [
    "P.S.\n",
    "We have also tried another way of making dataset to make sure all the words in the 'mitchell_lapata_acl08.txt' are included. ⬇️"
   ]
  },
  {
   "cell_type": "markdown",
   "metadata": {},
   "source": [
    "word_pairs = [] # test suit word pairs\n",
    "high_group = []\n",
    "low_group = []\n",
    "\n",
    "# participant -> similarity score, for each pair, an average score of all participants\n",
    "semantic_similarity = {}  # key: (w1, w2), value: list of scores\n",
    "# make two separate dicts from semantic_similarity dict based on 'high' and 'low' group\n",
    "sem_sim_high = {}\n",
    "sem_sim_low = {}\n",
    "\n",
    "for index, line in enumerate(open('/Users/gengtianyi/Downloads/MLT2023/LT2213/02-vector-semantics/mitchell_lapata_acl08/mitchell_lapata_acl08.txt')):\n",
    "    data = line.strip().split()\n",
    "    if index > 0 and len(data) == 6:\n",
    "        # w1 = (verb, noun), w2 = (verb, landmark)\n",
    "        w1, w2 = tuple(data[1:3]), (data[1],data[3])\n",
    "        word_pairs.append((w1, w2))\n",
    "        # calculate the average similarity score for each pair\n",
    "        score = float(data[4])\n",
    "        if (w1, w2) not in semantic_similarity:\n",
    "            semantic_similarity[(w1, w2)] = []\n",
    "        semantic_similarity[(w1, w2)].append(score)\n",
    "        if data[5] == 'high':\n",
    "            high_group.append((w1, w2))\n",
    "        else:\n",
    "            low_group.append((w1, w2))\n",
    "\n",
    "word_pairs = list(set(word_pairs)) # remove duplicates\n",
    "# calculate the average similarity score for each pair\n",
    "for key in semantic_similarity:\n",
    "    semantic_similarity[key] = sum(semantic_similarity[key]) / len(semantic_similarity[key])\n",
    "high_group = list(set(high_group)) # remove duplicates\n",
    "low_group = list(set(low_group)) # remove duplicates\n",
    "\n",
    "# generate two separate dicts from semantic_similarity dict based on 'high' and 'low' group\n",
    "for key in semantic_similarity:\n",
    "    if key in high_group:\n",
    "        sem_sim_high[key] = semantic_similarity[key]\n",
    "    else:\n",
    "        sem_sim_low[key] = semantic_similarity[key]\n",
    "\n",
    "#test print\n",
    "print(word_pairs[:3])\n",
    "print(semantic_similarity[('stray', 'thought'), ('stray', 'roam')])"
   ]
  },
  {
   "cell_type": "markdown",
   "metadata": {},
   "source": [
    "# Step 2: Compose the vectors of the extracted word pairs by testing different compositional functions.\n",
    "# compose new vectors based on vocalbulary of the new txt file \"mitchell_lapata_acl08.txt\"\n",
    "\n",
    "# new \"ktw\" should be \"all the unique words in the new txt file\"\n",
    "new_ktw = []\n",
    "for word in word_pairs:\n",
    "    new_ktw.extend(word[0])\n",
    "    new_ktw.extend(word[1])\n",
    "new_ktw = list(set(new_ktw)) # remove duplicates\n",
    "# new_ktw = do_word_count(corpus_dir, numdims)\n",
    "\n",
    "new_wi = make_word_index(new_ktw)\n",
    "new_words_in_order = sorted(new_wi.keys(), key=lambda w:new_wi[w])\n",
    "\n",
    "# make 3 matrices\n",
    "new_space = make_space(corpus_dir, new_wi, numdims)\n",
    "new_ppmispace = ppmi_transform(new_space, new_wi)\n",
    "new_svdspace = svd_transform(new_ppmispace, numdims, svddim)\n"
   ]
  },
  {
   "cell_type": "markdown",
   "metadata": {},
   "source": [
    "# test print\n",
    "print(new_ktw[:10])\n",
    "print(\"stray:\",new_space[\"stray\"])"
   ]
  },
  {
   "cell_type": "markdown",
   "metadata": {},
   "source": [
    "# for high task\n",
    "# calculate Spearman rank correlation coefficient between two lists of the scores\n",
    "rho_raw, pval_raw = stats.spearmanr(list(sem_sim_high.values()), list(raw_similarities.values()))\n",
    "rho_ppmi, pval_ppmi = stats.spearmanr(list(sem_sim_high.values()), list(ppmi_similarities.values()))\n",
    "rho_svd, pval_svd = stats.spearmanr(list(sem_sim_high.values()), list(svd_similarities.values()))\n",
    "\n",
    "print(\"High task:\")\n",
    "print(\"\"\"Semantic Similarity vs. Raw Similarity:\n",
    "rho     = {:.4f}\n",
    "p-value = {:.4f}\"\"\".format(rho_raw, pval_raw))\n",
    "print(\"\"\"Semantic Similarity vs. PPMI Similarity:\n",
    "      rho     = {:.4f}\n",
    "      p-value = {:.4f}\"\"\".format(rho_ppmi, pval_ppmi))\n",
    "print(\"\"\"Semantic Similarity vs. SVD Similarity:\n",
    "        rho     = {:.4f}\n",
    "        p-value = {:.4f}\"\"\".format(rho_svd, pval_svd))"
   ]
  },
  {
   "cell_type": "markdown",
   "metadata": {},
   "source": [
    "# for low task\n",
    "# calculate all the cosine similarities for all the pairs in the dataset\n",
    "# raw similarity scores & additve model\n",
    "raw_similarities = {}\n",
    "for key in sem_sim_low:\n",
    "    p1, p2 = key\n",
    "    vec_p1 = new_space[p1[0]] + new_space[p1[1]]\n",
    "    vec_p2 = new_space[p2[0]] + new_space[p2[1]]\n",
    "    raw_similarities[key] = distance.cosine(vec_p1, vec_p2)\n",
    "\n",
    "# ppmi similarity scores & additve model\n",
    "ppmi_similarities = {}\n",
    "for key in sem_sim_low:\n",
    "    p1, p2 = key\n",
    "    vec_p1 = new_ppmispace[p1[0]] + new_ppmispace[p1[1]]\n",
    "    vec_p2 = new_ppmispace[p2[0]] + new_ppmispace[p2[1]]\n",
    "    ppmi_similarities[key] = distance.cosine(vec_p1, vec_p2)\n",
    "\n",
    "# svd similarity scores & additve model\n",
    "svd_similarities = {}\n",
    "for key in sem_sim_low:\n",
    "    p1, p2 = key\n",
    "    vec_p1 = new_svdspace[p1[0]] + new_svdspace[p1[1]]\n",
    "    vec_p2 = new_svdspace[p2[0]] + new_svdspace[p2[1]]\n",
    "    svd_similarities[key] = distance.cosine(vec_p1, vec_p2)\n",
    "\n",
    "\n",
    "# calculate Spearman rank correlation coefficient between two lists of the scores\n",
    "rho_raw, pval_raw = stats.spearmanr(list(sem_sim_low.values()), list(raw_similarities.values()))\n",
    "rho_ppmi, pval_ppmi = stats.spearmanr(list(sem_sim_low.values()), list(ppmi_similarities.values()))\n",
    "rho_svd, pval_svd = stats.spearmanr(list(sem_sim_low.values()), list(svd_similarities.values()))\n",
    "\n",
    "print(\"Low task:\")\n",
    "print(\"\"\"Semantic Similarity vs. Raw Similarity:\n",
    "rho     = {:.4f}\n",
    "p-value = {:.4f}\"\"\".format(rho_raw, pval_raw))\n",
    "print(\"\"\"Semantic Similarity vs. PPMI Similarity:\n",
    "      rho     = {:.4f}\n",
    "      p-value = {:.4f}\"\"\".format(rho_ppmi, pval_ppmi))\n",
    "print(\"\"\"Semantic Similarity vs. SVD Similarity:\n",
    "        rho     = {:.4f}\n",
    "        p-value = {:.4f}\"\"\".format(rho_svd, pval_svd))\n"
   ]
  },
  {
   "cell_type": "markdown",
   "metadata": {},
   "source": [
    "# Literature\n",
    "\n",
    "[1] C. Silberer and M. Lapata. Learning grounded meaning representations with autoencoders. In Proceedings of the 52nd Annual Meeting of the Association for Computational Linguistics, pages 721–732, Baltimore, Maryland, USA, June 23–25 2014 2014. Association for Computational Linguistics.  \n",
    "\n",
    "[2] Mitchell, J., & Lapata, M. (2008). Vector-based Models of Semantic Composition. In Proceedings of ACL-08: HLT (pp. 236–244). Association for Computational Linguistics.\n",
    "  \n",
    "[3] T. Mikolov, I. Sutskever, K. Chen, G. S. Corrado, and J. Dean. Distributed representations of words and phrases and their compositionality. In Advances in neural information processing systems, pages 3111–3119, 2013.\n",
    "\n",
    "[4] E. Vylomova, L. Rimell, T. Cohn, and T. Baldwin. Take and took, gaggle and goose, book and read: Evaluating the utility of vector differences for lexical relation learning. arXiv, arXiv:1509.01692 [cs.CL], 2015."
   ]
  },
  {
   "cell_type": "markdown",
   "metadata": {},
   "source": [
    "## Statement of contribution\n",
    "\n",
    "Briefly state how many times you have met for discussions, who was present, to what degree each member contributed to the discussion and the final answers you are submitting."
   ]
  },
  {
   "cell_type": "markdown",
   "metadata": {},
   "source": [
    "## Marks\n",
    "\n",
    "The assignment is marked on a 7-level scale where 4 is sufficient to complete the assignment; 5 is good solid work; 6 is excellent work, covers most of the assignment; and 7: creative work. \n",
    "\n",
    "This assignment has a total of 60 marks. These translate to grades as follows: 1 = 17% 2 = 34%, 3 = 50%, 4 = 67%, 5 = 75%, 6 = 84%, 7 = 92% where %s are interpreted as lower bounds to achieve that grade."
   ]
  }
 ],
 "metadata": {
  "kernelspec": {
   "display_name": "Python 3 (ipykernel)",
   "language": "python",
   "name": "python3"
  },
  "language_info": {
   "codemirror_mode": {
    "name": "ipython",
    "version": 3
   },
   "file_extension": ".py",
   "mimetype": "text/x-python",
   "name": "python",
   "nbconvert_exporter": "python",
   "pygments_lexer": "ipython3",
   "version": "3.11.5"
  },
  "toc": {
   "base_numbering": 1,
   "nav_menu": {},
   "number_sections": true,
   "sideBar": true,
   "skip_h1_title": false,
   "title_cell": "Table of Contents",
   "title_sidebar": "Contents",
   "toc_cell": false,
   "toc_position": {},
   "toc_section_display": true,
   "toc_window_display": false
  }
 },
 "nbformat": 4,
 "nbformat_minor": 4
}
